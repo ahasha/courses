{
 "cells": [
  {
   "cell_type": "markdown",
   "metadata": {},
   "source": [
    "# Launching FastAI p2 instance using boto3\n",
    "\n",
    "I wanted an idempotent launcher (doesn't create redundant resources when I run it again.)  Alternatively, I could have used CloudFormation.  See [this repo](https://github.com/scicolabs/jupyter-aws/blob/master/jupyter.template) for an example template that does similar things."
   ]
  },
  {
   "cell_type": "code",
   "execution_count": 2,
   "metadata": {
    "collapsed": true
   },
   "outputs": [],
   "source": [
    "import os\n",
    "import boto3\n",
    "aws_session = boto3.session.Session()\n",
    "region = aws_session.region_name"
   ]
  },
  {
   "cell_type": "code",
   "execution_count": 3,
   "metadata": {
    "collapsed": true
   },
   "outputs": [],
   "source": [
    "INSTANCE_TYPE = \"p2.xlarge\"\n",
    "NAME=\"fast-ai\"\n",
    "CIDR=\"0.0.0.0/0\"\n",
    "CIDR_BLOCK=\"10.0.0.0/28\""
   ]
  },
  {
   "cell_type": "markdown",
   "metadata": {},
   "source": [
    "```bash\n",
    "export region=$(aws configure get region)\n",
    "if [ $region = \"us-west-2\" ]; then\n",
    "   export ami=\"ami-bc508adc\" # Oregon\n",
    "elif [ $region = \"eu-west-1\" ]; then\n",
    "   export ami=\"ami-b43d1ec7\" # Ireland\n",
    "elif [ $region = \"us-east-1\" ]; then\n",
    "  export ami=\"ami-31ecfb26\" # Virginia\n",
    "else\n",
    "  echo \"Only us-west-2 (Oregon), eu-west-1 (Ireland), and us-east-1 (Virginia) are currently supported\"\n",
    "  exit 1\n",
    "fi\n",
    "\n",
    "export instanceType=\"p2.xlarge\"\n",
    "```"
   ]
  },
  {
   "cell_type": "markdown",
   "metadata": {},
   "source": [
    "See [this link](https://boto3.readthedocs.io/en/latest/guide/quickstart.html#configuration) for information on how to configure `boto3`"
   ]
  },
  {
   "cell_type": "code",
   "execution_count": 4,
   "metadata": {
    "collapsed": true
   },
   "outputs": [],
   "source": [
    "AMI_OF = {\n",
    "    \"us-west-2\": \"ami-bc508adc\", #My pre-built AMI: ami-02cd7b7a\n",
    "    \"us-east-1\": \"ami-31ecfb26\", \n",
    "    \"eu-west-1\": \"ami-b43d1ec7\"\n",
    "}\n",
    "\n",
    "if region not in AMI_OF:\n",
    "    raise ValueError(\"No AMI available for AWS region {0}\".format(region))\n",
    "else:\n",
    "    ami = AMI_OF[region]"
   ]
  },
  {
   "cell_type": "markdown",
   "metadata": {},
   "source": [
    "# Create and configure VPC\n",
    "\n",
    "```bash\n",
    "export vpcId=$(aws ec2 create-vpc --cidr-block 10.0.0.0/28 --query 'Vpc.VpcId' --output text)\n",
    "aws ec2 create-tags --resources $vpcId --tags --tags Key=Name,Value=$name\n",
    "aws ec2 modify-vpc-attribute --vpc-id $vpcId --enable-dns-support \"{\\\"Value\\\":true}\"\n",
    "aws ec2 modify-vpc-attribute --vpc-id $vpcId --enable-dns-hostnames \"{\\\"Value\\\":true}\"\n",
    "```"
   ]
  },
  {
   "cell_type": "code",
   "execution_count": 5,
   "metadata": {
    "collapsed": true
   },
   "outputs": [],
   "source": [
    "ec2 = boto3.resource('ec2')\n",
    "filters = [{'Name': 'tag:Name', 'Values': [NAME]}]\n",
    "vpcs = list(ec2.vpcs.filter(Filters=filters))"
   ]
  },
  {
   "cell_type": "code",
   "execution_count": 6,
   "metadata": {},
   "outputs": [
    {
     "name": "stdout",
     "output_type": "stream",
     "text": [
      "Creating VPC 'fast-ai'\n"
     ]
    },
    {
     "data": {
      "text/plain": [
       "ec2.Vpc(id='vpc-d522c1ac')"
      ]
     },
     "execution_count": 6,
     "metadata": {},
     "output_type": "execute_result"
    }
   ],
   "source": [
    "if vpcs:\n",
    "    print(\"VPC '{0}' exists, skipping creation\".format(NAME))\n",
    "    vpc = vpcs[0]\n",
    "else:\n",
    "    print(\"Creating VPC '{0}'\".format(NAME))\n",
    "    vpc = ec2.create_vpc(CidrBlock=CIDR_BLOCK)\n",
    "    vpc.create_tags(Tags=[{\"Key\": \"Name\", \"Value\": NAME}])\n",
    "    response = vpc.modify_attribute(\n",
    "      EnableDnsSupport={\n",
    "          'Value': True\n",
    "      })\n",
    "    response = response = vpc.modify_attribute(\n",
    "      EnableDnsHostnames={\n",
    "          'Value': True\n",
    "      })\n",
    "vpc"
   ]
  },
  {
   "cell_type": "markdown",
   "metadata": {},
   "source": [
    "# Create and configure gateway\n",
    "\n",
    "```bash\n",
    "export internetGatewayId=$(aws ec2 create-internet-gateway --query 'InternetGateway.InternetGatewayId' --output text)\n",
    "aws ec2 create-tags --resources $internetGatewayId --tags --tags Key=Name,Value=$name-gateway\n",
    "aws ec2 attach-internet-gateway --internet-gateway-id $internetGatewayId --vpc-id $vpcId\n",
    "```"
   ]
  },
  {
   "cell_type": "code",
   "execution_count": 10,
   "metadata": {},
   "outputs": [
    {
     "name": "stdout",
     "output_type": "stream",
     "text": [
      "Internet Gateway already exists for VPC Id vpc-d522c1ac\n"
     ]
    },
    {
     "data": {
      "text/plain": [
       "ec2.InternetGateway(id='igw-b5ab46d3')"
      ]
     },
     "execution_count": 10,
     "metadata": {},
     "output_type": "execute_result"
    }
   ],
   "source": [
    "filters = [{'Name': 'tag:Name', \"Values\": [NAME + \"-gateway\"]},\n",
    "           {'Name': 'attachment.vpc-id', \"Values\": [vpc.id]}]\n",
    "\n",
    "internet_gateways = list(ec2.internet_gateways.filter(Filters=filters))\n",
    "\n",
    "if internet_gateways:\n",
    "    print(\"Internet Gateway already exists for VPC Id {0}\".format(vpc.id))\n",
    "    gateway = internet_gateways[0]\n",
    "else:\n",
    "    print(\"Creating Internet Gateway {0} and attaching to {1}\".format(NAME+\"-gateway\", vpc.id))\n",
    "    gateway = ec2.create_internet_gateway()\n",
    "    gateway.create_tags(Tags=[{\"Key\": \"Name\", \"Value\": NAME + \"-gateway\"}])\n",
    "    vpc.attach_internet_gateway(InternetGatewayId=gateway.id)\n",
    "\n",
    "gateway"
   ]
  },
  {
   "cell_type": "markdown",
   "metadata": {},
   "source": [
    "# Create and configure subnet\n",
    "\n",
    "```bash\n",
    "export subnetId=$(aws ec2 create-subnet --vpc-id $vpcId --cidr-block 10.0.0.0/28 --query 'Subnet.SubnetId' --output text)\n",
    "aws ec2 create-tags --resources $subnetId --tags --tags Key=Name,Value=$name-subnet\n",
    "```"
   ]
  },
  {
   "cell_type": "code",
   "execution_count": 13,
   "metadata": {},
   "outputs": [
    {
     "name": "stdout",
     "output_type": "stream",
     "text": [
      "Subnet already exists for VPC Id vpc-d522c1ac\n"
     ]
    },
    {
     "data": {
      "text/plain": [
       "ec2.Subnet(id='subnet-4e82cd06')"
      ]
     },
     "execution_count": 13,
     "metadata": {},
     "output_type": "execute_result"
    }
   ],
   "source": [
    "filters = [{'Name': 'tag:Name', \"Values\": [NAME + \"-subnet\"]}]\n",
    "subnets = list(ec2.subnets.filter(Filters=filters))\n",
    " \n",
    "def validate(subnet, vpc):\n",
    "    return (subnet.cidr_block == CIDR_BLOCK) and (subnet.vpc_id == vpc.id)\n",
    "\n",
    "if subnets and validate(subnets[0], vpc):\n",
    "    print(\"Subnet already exists for VPC Id {0}\".format(vpc.id))\n",
    "    subnet = subnets[0]\n",
    "else:\n",
    "    print(\"Creating Subnet {0} and attaching to {1}\".format(NAME+\"-subnet\", vpc.id))\n",
    "    subnet = ec2.create_subnet(CidrBlock='10.0.0.0/28', VpcId=vpc.id)\n",
    "    subnet.create_tags(Tags=[{\"Key\": \"Name\", \"Value\": NAME + \"-subnet\"}])\n",
    "\n",
    "subnet"
   ]
  },
  {
   "cell_type": "markdown",
   "metadata": {
    "collapsed": true
   },
   "source": [
    "# Configure routing table\n",
    "\n",
    "```bash\n",
    "export routeTableId=$(aws ec2 create-route-table --vpc-id $vpcId --query 'RouteTable.RouteTableId' --output text)\n",
    "aws ec2 create-tags --resources $routeTableId --tags --tags Key=Name,Value=$name-route-table\n",
    "export routeTableAssoc=$(aws ec2 associate-route-table --route-table-id $routeTableId --subnet-id $subnetId --output text)\n",
    "aws ec2 create-route --route-table-id $routeTableId --destination-cidr-block 0.0.0.0/0 --gateway-id $internetGatewayId\n",
    "```"
   ]
  },
  {
   "cell_type": "code",
   "execution_count": 28,
   "metadata": {},
   "outputs": [
    {
     "name": "stdout",
     "output_type": "stream",
     "text": [
      "Creating Route Table fast-ai-route-table and associating to subnet subnet-4e82cd06 and gateway igw-b5ab46d3\n"
     ]
    }
   ],
   "source": [
    "DESTINATION_CIDR_BLOCK=\"0.0.0.0/0\"\n",
    "filters = [{'Name': 'tag:Name', \"Values\": [NAME + \"-route-table\"]},\n",
    "           {'Name': 'association.subnet-id', \"Values\": [subnet.id]},\n",
    "           {'Name': 'vpc-id', \"Values\": [vpc.id]},\n",
    "           {'Name': 'route.destination-cidr-block', \"Values\": [DESTINATION_CIDR_BLOCK]},\n",
    "           {'Name': 'route.gateway-id', \"Values\": [gateway.internet_gateway_id]}\n",
    "          ]\n",
    "route_tables = list(ec2.route_tables.filter(Filters=filters))\n",
    "\n",
    "if route_tables:\n",
    "    print(\"Route table already exists for VPC Id {0}\".format(vpc.id))\n",
    "    route_table = route_tables[0]\n",
    "else:\n",
    "    print(\"Creating Route Table {0} and associating to subnet {1} and gateway {2}\".format(NAME+\"-route-table\", subnet.id, gateway.internet_gateway_id))\n",
    "    \n",
    "    route_table = ec2.create_route_table(VpcId=vpc.id)\n",
    "    route_table.create_tags(Tags=[{\"Key\": \"Name\", \"Value\": NAME + \"-route_table\"}])\n",
    "    route_table.associate_with_subnet(SubnetId=subnet.id)\n",
    "    route_table.create_route(DestinationCidrBlock=DESTINATION_CIDR_BLOCK, GatewayId=gateway.id)\n"
   ]
  },
  {
   "cell_type": "markdown",
   "metadata": {},
   "source": [
    "# Configure security groups\n",
    "\n",
    "```bash\n",
    "export securityGroupId=$(aws ec2 create-security-group --group-name $name-security-group --description \"SG for fast.ai machine\" --vpc-id $vpcId --query 'GroupId' --output text)\n",
    "# ssh\n",
    "aws ec2 authorize-security-group-ingress --group-id $securityGroupId --protocol tcp --port 22 --cidr $cidr\n",
    "# jupyter notebook\n",
    "aws ec2 authorize-security-group-ingress --group-id $securityGroupId --protocol tcp --port 8888-8898 --cidr $cidr\n",
    "```"
   ]
  },
  {
   "cell_type": "code",
   "execution_count": 39,
   "metadata": {},
   "outputs": [
    {
     "name": "stdout",
     "output_type": "stream",
     "text": [
      "Security Group already exists for VPC Id vpc-d522c1ac\n"
     ]
    },
    {
     "data": {
      "text/plain": [
       "ec2.SecurityGroup(id='sg-c0ff4cbc')"
      ]
     },
     "execution_count": 39,
     "metadata": {},
     "output_type": "execute_result"
    }
   ],
   "source": [
    "filters = [\n",
    "           {'Name': 'vpc-id', \"Values\": [vpc.id]},\n",
    "           {'Name': 'ip-permission.cidr', \"Values\": [CIDR]},\n",
    "           {'Name': 'ip-permission.to-port', \"Values\": ['22', '8898']}\n",
    "          ]\n",
    "security_groups = list(ec2.security_groups.filter(Filters=filters))\n",
    "\n",
    "if security_groups:\n",
    "    print(\"Security Group already exists for VPC Id {0}\".format(vpc.id))\n",
    "    security_group = security_groups[0]\n",
    "else:\n",
    "    print(\"Creating Security Group in VPC {0}\".format(vpc.id))\n",
    "    \n",
    "    security_group = ec2.create_security_group(VpcId=vpc.id, \n",
    "                                               Description=\"SG for fast.ai machine\",\n",
    "                                               GroupName=NAME+\"-security-group\")\n",
    "    security_group.authorize_ingress(CidrIp=CIDR, FromPort=22, ToPort=22, IpProtocol=\"tcp\")\n",
    "    security_group.authorize_ingress(CidrIp=CIDR, FromPort=8888, ToPort=8898, IpProtocol=\"tcp\")\n",
    "\n",
    "security_group"
   ]
  },
  {
   "cell_type": "markdown",
   "metadata": {},
   "source": [
    "# Set up keypairs\n",
    "\n",
    "```bash\n",
    "if [ ! -d ~/.ssh ]\n",
    "then\n",
    "\tmkdir ~/.ssh\n",
    "fi\n",
    "\n",
    "if [ ! -f ~/.ssh/aws-key-$name.pem ]\n",
    "then\n",
    "\taws ec2 create-key-pair --key-name aws-key-$name --query 'KeyMaterial' --output text > ~/.ssh/aws-key-$name.pem\n",
    "\tchmod 400 ~/.ssh/aws-key-$name.pem\n",
    "fi\n",
    "```"
   ]
  },
  {
   "cell_type": "code",
   "execution_count": 50,
   "metadata": {
    "collapsed": true
   },
   "outputs": [],
   "source": [
    "import os\n",
    "import stat"
   ]
  },
  {
   "cell_type": "code",
   "execution_count": 58,
   "metadata": {
    "collapsed": true
   },
   "outputs": [],
   "source": [
    "NAME = \"foobarbaz\"\n",
    "if not os.path.exists(os.path.expanduser(\"~/.ssh\")):\n",
    "    os.mkdir(os.path.expanduser(\"~/.ssh\"))\n",
    "\n",
    "keyfile = os.path.expanduser(\"~/.ssh/aws-key-{0}.pem\".format(NAME))\n",
    "if not os.path.isfile(keyfile):\n",
    "    key_pair = ec2.create_key_pair(KeyName=\"aws-key-\" + NAME)\n",
    "    with open(keyfile, mode='w') as f:\n",
    "        f.write(key_pair.key_material)\n",
    "    os.chmod(keyfile, 0o400)\n",
    "                      "
   ]
  },
  {
   "cell_type": "code",
   "execution_count": 60,
   "metadata": {},
   "outputs": [
    {
     "data": {
      "text/plain": [
       "{'ResponseMetadata': {'HTTPHeaders': {'content-type': 'text/xml;charset=UTF-8',\n",
       "   'date': 'Mon, 11 Dec 2017 00:13:41 GMT',\n",
       "   'server': 'AmazonEC2',\n",
       "   'transfer-encoding': 'chunked',\n",
       "   'vary': 'Accept-Encoding'},\n",
       "  'HTTPStatusCode': 200,\n",
       "  'RequestId': '3724dca4-475f-41af-b553-7724fe57185f',\n",
       "  'RetryAttempts': 0}}"
      ]
     },
     "execution_count": 60,
     "metadata": {},
     "output_type": "execute_result"
    }
   ],
   "source": [
    "key_pair.delete()"
   ]
  },
  {
   "cell_type": "code",
   "execution_count": 56,
   "metadata": {},
   "outputs": [
    {
     "data": {
      "text/plain": [
       "420"
      ]
     },
     "execution_count": 56,
     "metadata": {},
     "output_type": "execute_result"
    }
   ],
   "source": [
    "0o644"
   ]
  },
  {
   "cell_type": "markdown",
   "metadata": {},
   "source": [
    "# Launch instance\n",
    "\n",
    "```bash\n",
    "export instanceId=$(aws ec2 run-instances --image-id $ami --count 1 --instance-type $instanceType --key-name aws-key-$name --security-group-ids $securityGroupId --subnet-id $subnetId --associate-public-ip-address --block-device-mapping \"[ { \\\"DeviceName\\\": \\\"/dev/sda1\\\", \\\"Ebs\\\": { \\\"VolumeSize\\\": 128, \\\"VolumeType\\\": \\\"gp2\\\" } } ]\" --query 'Instances[0].InstanceId' --output text)\n",
    "aws ec2 create-tags --resources $instanceId --tags --tags Key=Name,Value=$name-gpu-machine\n",
    "export allocAddr=$(aws ec2 allocate-address --domain vpc --query 'AllocationId' --output text)\n",
    "\n",
    "echo Waiting for instance start...\n",
    "aws ec2 wait instance-running --instance-ids $instanceId\n",
    "sleep 10 # wait for ssh service to start running too\n",
    "export assocId=$(aws ec2 associate-address --instance-id $instanceId --allocation-id $allocAddr --query 'AssociationId' --output text)\n",
    "export instanceUrl=$(aws ec2 describe-instances --instance-ids $instanceId --query 'Reservations[0].Instances[0].PublicDnsName' --output text)\n",
    "\n",
    "# reboot instance, because I was getting \"Failed to initialize NVML: Driver/library version mismatch\"\n",
    "# error when running the nvidia-smi command\n",
    "# see also http://forums.fast.ai/t/no-cuda-capable-device-is-detected/168/13\n",
    "aws ec2 reboot-instances --instance-ids $instanceId\n",
    "```"
   ]
  },
  {
   "cell_type": "code",
   "execution_count": 43,
   "metadata": {},
   "outputs": [
    {
     "data": {
      "text/plain": [
       "[]"
      ]
     },
     "execution_count": 43,
     "metadata": {},
     "output_type": "execute_result"
    }
   ],
   "source": []
  },
  {
   "cell_type": "code",
   "execution_count": null,
   "metadata": {
    "collapsed": true
   },
   "outputs": [],
   "source": []
  },
  {
   "cell_type": "markdown",
   "metadata": {},
   "source": []
  },
  {
   "cell_type": "code",
   "execution_count": null,
   "metadata": {
    "collapsed": true
   },
   "outputs": [],
   "source": []
  },
  {
   "cell_type": "code",
   "execution_count": null,
   "metadata": {
    "collapsed": true
   },
   "outputs": [],
   "source": []
  }
 ],
 "metadata": {
  "anaconda-cloud": {},
  "kernelspec": {
   "display_name": "Python [conda env:data]",
   "language": "python",
   "name": "conda-env-data-py"
  },
  "language_info": {
   "codemirror_mode": {
    "name": "ipython",
    "version": 3
   },
   "file_extension": ".py",
   "mimetype": "text/x-python",
   "name": "python",
   "nbconvert_exporter": "python",
   "pygments_lexer": "ipython3",
   "version": "3.5.2"
  }
 },
 "nbformat": 4,
 "nbformat_minor": 2
}
